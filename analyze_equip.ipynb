{
 "cells": [
  {
   "cell_type": "code",
   "execution_count": 1,
   "metadata": {},
   "outputs": [],
   "source": [
    "import sqlite3\n",
    "from datetime import datetime\n",
    "from pathlib import Path\n",
    "\n",
    "import hjson\n",
    "import pandas as pd\n",
    "from gf_utils.stc_data import get_stc_data\n",
    "from event_record import EventRecord\n",
    "\n",
    "gamedata = get_stc_data(\n",
    "    [\"../GF_Data_Tools/data/ch/stc\", \"../GF_Data_Tools/data/ch/catchdata\"],\n",
    "    \"../GF_Data_Tools/data/ch/asset/table\",\n",
    ")\n",
    "path = Path(\"../Elisa/logs/develop_log.db\").resolve()\n",
    "conn = sqlite3.connect(f\"file:///{path}?immutable=1\", uri=True)"
   ]
  },
  {
   "cell_type": "code",
   "execution_count": 11,
   "metadata": {},
   "outputs": [],
   "source": [
    "\n",
    "eventrecord = EventRecord(\"./events.hjson\")"
   ]
  },
  {
   "cell_type": "code",
   "execution_count": 3,
   "metadata": {},
   "outputs": [],
   "source": [
    "equip = pd.read_sql(\"\"\"\n",
    "select * from equip\n",
    "\"\"\", conn)"
   ]
  },
  {
   "cell_type": "code",
   "execution_count": 12,
   "metadata": {},
   "outputs": [],
   "source": [
    "def analyze(df):\n",
    "    series = dict()\n",
    "    for formula in filter(lambda x: x[\"develop_type\"]==3,gamedata[\"recommended_formula\"].values()):\n",
    "        mp, ammo, mre, part = formula[\"produce_mp\"], formula[\"produce_ammo\"], formula[\"produce_mre\"], formula[\"produce_part\"]\n",
    "        sub_df = df.query(\"mp==@mp and ammo==@ammo and mre==@mre and part==@part\")\n",
    "        if len(sub_df)==0:\n",
    "            continue\n",
    "        # print(mp, ammo, mre, part)\n",
    "\n",
    "        prev = {k: [int(i) for i in v.split(\",\")] for k,v in map(lambda x: x.split(\":\"), formula[\"preview\"].split(\"|\"))}\n",
    "        rarity = {k: v for k,v in map(lambda x: x.split(\":\"),formula[\"type_rarity\"].split(\",\"))}\n",
    "        eqs = filter(lambda x: gamedata[\"equip\"][x][\"rank\"]==5,sum([v for k,v in prev.items() if rarity[k]==\"A\"], start=[]))\n",
    "        # print({k: gamedata[\"equip\"][k][\"name\"] for k in eqs})\n",
    "        cnt = len(sub_df)\n",
    "        record = {}\n",
    "        record[\"total\"] = cnt\n",
    "        record[\"rank5\"] = sum(sub_df[\"equip_rank\"]==5)/cnt\n",
    "        for eid in eqs:\n",
    "            record[gamedata[\"equip\"][eid][\"name\"]] = sum(sub_df[\"equip_id\"]==eid)/cnt\n",
    "        for k, v in record.items():\n",
    "            series[(mp,ammo,mre,part,k)] = v\n",
    "    series = pd.Series(series)\n",
    "    series.index.set_names([\"mp\",\"ammo\",\"mre\",\"part\",\"...\"],inplace=True)\n",
    "    return series\n",
    "        \n",
    "df = equip.query(\"trust==True and item_num==1 and input_level==0\")\n",
    "result = []\n",
    "for name, query in eventrecord[\"equip\"]:\n",
    "    sub_df = df.query(query)\n",
    "    ret = analyze(sub_df)\n",
    "    ret.name = name\n",
    "    result.append(ret)\n",
    "\n",
    "a = pd.concat(result, axis=1)"
   ]
  },
  {
   "cell_type": "code",
   "execution_count": 13,
   "metadata": {},
   "outputs": [],
   "source": [
    "a.to_excel(\"equip.xlsx\")"
   ]
  },
  {
   "cell_type": "code",
   "execution_count": 16,
   "metadata": {},
   "outputs": [],
   "source": [
    "df = equip.query(\"trust==True and item_num==1 and input_level==0\")"
   ]
  },
  {
   "cell_type": "code",
   "execution_count": 47,
   "metadata": {},
   "outputs": [],
   "source": [
    "def analyze(df):\n",
    "    series = dict()\n",
    "    counts = df.value_counts([\"mp\",\"ammo\",\"mre\",\"part\"])\n",
    "    for mp, ammo, mre, part in counts[counts>=500].keys():\n",
    "        sub_df = df.query(\"mp==@mp and ammo==@ammo and mre==@mre and part==@part\")\n",
    "        if len(sub_df)==0:\n",
    "            continue\n",
    "\n",
    "        cnt = len(sub_df)\n",
    "        record = {}\n",
    "        record[\"total\"] = cnt\n",
    "        record[\"rank5\"] = sum(sub_df[\"equip_rank\"]==5)/cnt\n",
    "        for eid in filter(lambda x: gamedata[\"equip\"][x][\"rank\"]==5, set(sub_df[\"equip_id\"])):\n",
    "            record[gamedata[\"equip\"][eid][\"name\"]] = sum(sub_df[\"equip_id\"]==eid)/cnt\n",
    "        for k, v in record.items():\n",
    "            series[((mp,ammo,mre,part),k)] = v\n",
    "    series = pd.Series(series)\n",
    "    series.index.set_names([\"formula\",\"target\"],inplace=True)\n",
    "    return series\n",
    "\n",
    "result = []\n",
    "for name, query in eventrecord[\"equip\"]:\n",
    "    sub_df = df.query(query)\n",
    "    ret = analyze(sub_df)\n",
    "    ret.name = name\n",
    "    result.append(ret)\n",
    "\n",
    "result = pd.concat(result, axis=1).fillna(value='')\n",
    "result.sort_index(kind=\"stable\", key=lambda col: col.map(lambda x:0) if col.name==\"target\" else col.map(lambda x: (x[0]+x[1]+x[2]+x[3]*3, x)), inplace=True)\n",
    "result.to_excel(\"formula.xlsx\", merge_cells=False)"
   ]
  },
  {
   "cell_type": "code",
   "execution_count": 36,
   "metadata": {},
   "outputs": [],
   "source": [
    "sub_df = df.query({k:v for k,v in eventrecord[\"equip\"]}['日常（30200）'])\n",
    "formulas = sub_df.value_counts([\"mp\",\"ammo\",\"mre\",\"part\"])[:25].keys()"
   ]
  },
  {
   "cell_type": "code",
   "execution_count": 39,
   "metadata": {},
   "outputs": [],
   "source": [
    "\n",
    "result = []\n",
    "for name, query in eventrecord[\"equip\"]:\n",
    "    sub_df = df.query(query)\n",
    "    ret = analyze(sub_df)\n",
    "    ret.name = name\n",
    "    result.append(ret)\n",
    "\n",
    "result = pd.concat(result, axis=1).fillna(0)\n",
    "result.sort_index(kind=\"stable\", key=lambda col: col.map(lambda x:0) if col.name==\"...\" else col, inplace=True)\n",
    "result.to_excel(\"formula.xlsx\", merge_cells=False)"
   ]
  },
  {
   "cell_type": "code",
   "execution_count": 38,
   "metadata": {},
   "outputs": [
    {
     "data": {
      "text/plain": [
       "MultiIndex([( 10,  10,  10,  10),\n",
       "            ( 70,  10, 150,  30),\n",
       "            (140,  10, 110,  10),\n",
       "            (151, 151, 151, 151),\n",
       "            (170, 120,  50,  50),\n",
       "            (150, 150, 150, 150),\n",
       "            (180, 180,  10,  50),\n",
       "            (100,  80,  10, 100),\n",
       "            ( 30, 150,  30, 130),\n",
       "            ( 10, 150,  90, 100),\n",
       "            ( 10, 230, 120,  80),\n",
       "            (150,  50,  50,  50),\n",
       "            ( 10, 300,  10,  10),\n",
       "            (100, 250, 150, 170),\n",
       "            (180,  20, 200,  20),\n",
       "            (180,  65,  65,  65),\n",
       "            ( 30,  30,  30, 200),\n",
       "            ( 80, 220,  80,  80),\n",
       "            ( 50,  50, 100, 100),\n",
       "            (300,  10,  10, 200),\n",
       "            (300, 300, 300, 300),\n",
       "            ( 10,  10,  10, 300),\n",
       "            (110, 110, 110, 110),\n",
       "            (210, 210, 210, 210),\n",
       "            ( 50, 250, 150, 100)],\n",
       "           names=['mp', 'ammo', 'mre', 'part'])"
      ]
     },
     "execution_count": 38,
     "metadata": {},
     "output_type": "execute_result"
    }
   ],
   "source": [
    "formulas"
   ]
  },
  {
   "cell_type": "code",
   "execution_count": null,
   "metadata": {},
   "outputs": [],
   "source": []
  }
 ],
 "metadata": {
  "kernelspec": {
   "display_name": "gfl",
   "language": "python",
   "name": "python3"
  },
  "language_info": {
   "codemirror_mode": {
    "name": "ipython",
    "version": 3
   },
   "file_extension": ".py",
   "mimetype": "text/x-python",
   "name": "python",
   "nbconvert_exporter": "python",
   "pygments_lexer": "ipython3",
   "version": "3.10.4"
  },
  "orig_nbformat": 4,
  "vscode": {
   "interpreter": {
    "hash": "1c6a66547f37cab124148c23839ee8044ef019729deab7b7d727b4959dd811f3"
   }
  }
 },
 "nbformat": 4,
 "nbformat_minor": 2
}
